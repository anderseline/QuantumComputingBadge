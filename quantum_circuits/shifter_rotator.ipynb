{
 "cells": [
  {
   "attachments": {},
   "cell_type": "markdown",
   "metadata": {},
   "source": [
    "# Quantum Barrel Shifter / Rotator "
   ]
  },
  {
   "cell_type": "code",
   "execution_count": 1,
   "metadata": {},
   "outputs": [
    {
     "data": {
      "text/html": [
       "<style>.container { width:90% !important; }</style>"
      ],
      "text/plain": [
       "<IPython.core.display.HTML object>"
      ]
     },
     "metadata": {},
     "output_type": "display_data"
    }
   ],
   "source": [
    "from IPython.core.display import display, HTML\n",
    "display(HTML(\"<style>.container { width:90% !important; }</style>\"))"
   ]
  },
  {
   "cell_type": "code",
   "execution_count": 2,
   "metadata": {},
   "outputs": [],
   "source": [
    "import numpy as np\n",
    "import qiskit\n",
    "from qiskit import visualization, QuantumCircuit, QuantumRegister, ClassicalRegister, Aer, execute\n",
    "%matplotlib inline\n",
    "from math import pi\n",
    "from Circuits import getBloch, stateGenerator, getMeasure, makeCirc, makeCirc2, makeCirc3"
   ]
  },
  {
   "cell_type": "code",
   "execution_count": 3,
   "metadata": {},
   "outputs": [],
   "source": [
    "backend = Aer.get_backend('statevector_simulator')"
   ]
  },
  {
   "cell_type": "code",
   "execution_count": 4,
   "metadata": {},
   "outputs": [],
   "source": [
    "def shifterCircuitMaker(n, inp=None):\n",
    "    shifterCircuit = makeCirc3(n, 0, 1, inp)\n",
    "    for i in range(0, n-2):\n",
    "        shifterCircuit.cswap(0, i+1, i+2)\n",
    "    for i in range(0, n-1):\n",
    "        shifterCircuit.measure(i, i)\n",
    "    return shifterCircuit"
   ]
  },
  {
   "cell_type": "code",
   "execution_count": 5,
   "metadata": {},
   "outputs": [
    {
     "name": "stdout",
     "output_type": "stream",
     "text": [
      "100001010100\n"
     ]
    }
   ],
   "source": [
    "shiftCircuit = shifterCircuitMaker(12)"
   ]
  },
  {
   "cell_type": "code",
   "execution_count": 9,
   "metadata": {},
   "outputs": [],
   "source": [
    "def applyShift(circ, n):\n",
    "    result = getMeasure(circ, 1, backend)[0][::-1]\n",
    "    return shifterCircuitMaker(n, result)"
   ]
  },
  {
   "cell_type": "code",
   "execution_count": 10,
   "metadata": {},
   "outputs": [
    {
     "name": "stdout",
     "output_type": "stream",
     "text": [
      "100010101000\n",
      "100101010000\n",
      "101010100000\n",
      "110101000000\n",
      "101010000000\n",
      "110100000000\n",
      "101000000000\n",
      "110000000000\n",
      "100000000000\n",
      "100000000000\n"
     ]
    }
   ],
   "source": [
    "# barrel shifts middle 5 bits to the left until the leave bit stream\n",
    "for i in range(0, 10):\n",
    "    shiftCircuit = applyShift(shiftCircuit, 12)"
   ]
  },
  {
   "cell_type": "code",
   "execution_count": 11,
   "metadata": {},
   "outputs": [],
   "source": [
    "def rotateCircuitMaker(n, inp=None):\n",
    "    shifterCircuit = makeCirc3(n, 0, 1, inp)\n",
    "    for i in range(0, n-2):\n",
    "        shifterCircuit.cswap(0, i+1, i+2)\n",
    "    for i in range(0, n):\n",
    "        shifterCircuit.measure(i, i)\n",
    "    return shifterCircuit\n",
    "def applyRotate(circ, n):\n",
    "    result = getMeasure(circ, 1, backend)[0][::-1]\n",
    "    return rotateCircuitMaker(n, result)"
   ]
  },
  {
   "cell_type": "code",
   "execution_count": 12,
   "metadata": {},
   "outputs": [
    {
     "name": "stdout",
     "output_type": "stream",
     "text": [
      "110101000101\n"
     ]
    }
   ],
   "source": [
    "rotateCircuit = rotateCircuitMaker(12)"
   ]
  },
  {
   "cell_type": "code",
   "execution_count": 13,
   "metadata": {},
   "outputs": [
    {
     "name": "stdout",
     "output_type": "stream",
     "text": [
      "101010001011\n",
      "110100010110\n",
      "101000101101\n",
      "110001011010\n",
      "100010110101\n",
      "100101101010\n",
      "101011010100\n",
      "110110101000\n",
      "101101010001\n",
      "111010100010\n"
     ]
    }
   ],
   "source": [
    "# rotate entire bit stream 10 times \n",
    "for i in range(0, 10):\n",
    "    rotateCircuit = applyRotate(rotateCircuit, 12)"
   ]
  }
 ],
 "metadata": {
  "kernelspec": {
   "display_name": "base",
   "language": "python",
   "name": "python3"
  },
  "language_info": {
   "codemirror_mode": {
    "name": "ipython",
    "version": 3
   },
   "file_extension": ".py",
   "mimetype": "text/x-python",
   "name": "python",
   "nbconvert_exporter": "python",
   "pygments_lexer": "ipython3",
   "version": "3.9.13"
  },
  "vscode": {
   "interpreter": {
    "hash": "1bc15c664e8da83fb3171ff18ce6ed45b614350d74f857137054e70f5fa19cef"
   }
  }
 },
 "nbformat": 4,
 "nbformat_minor": 4
}
