{
 "cells": [
  {
   "attachments": {},
   "cell_type": "markdown",
   "metadata": {},
   "source": [
    "# Deutsch-Jozsa Algorithm"
   ]
  },
  {
   "cell_type": "code",
   "execution_count": 8,
   "metadata": {},
   "outputs": [
    {
     "data": {
      "text/html": [
       "<style>.container { width:75% !important; }</style>"
      ],
      "text/plain": [
       "<IPython.core.display.HTML object>"
      ]
     },
     "metadata": {},
     "output_type": "display_data"
    }
   ],
   "source": [
    "from IPython.core.display import display, HTML\n",
    "display(HTML(\"<style>.container { width:75% !important; }</style>\"))"
   ]
  },
  {
   "cell_type": "code",
   "execution_count": 9,
   "metadata": {},
   "outputs": [],
   "source": [
    "import numpy as np\n",
    "import qiskit\n",
    "from qiskit import visualization, QuantumCircuit, QuantumRegister, ClassicalRegister, Aer, execute\n",
    "%matplotlib inline\n",
    "from math import pi\n",
    "from Circuits import getBloch, stateGenerator, getMeasure\n",
    "import random"
   ]
  },
  {
   "cell_type": "code",
   "execution_count": 10,
   "metadata": {},
   "outputs": [],
   "source": [
    "backend = Aer.get_backend('statevector_simulator')"
   ]
  },
  {
   "cell_type": "code",
   "execution_count": 11,
   "metadata": {},
   "outputs": [],
   "source": [
    "def makeCirc(n, state):\n",
    "    initState = state\n",
    "    print(initState)\n",
    "    qr = QuantumRegister(n)\n",
    "    qc = ClassicalRegister(n)\n",
    "    circ = QuantumCircuit(qr, qc)\n",
    "    initializedState = stateGenerator(initState)\n",
    "    circ.initialize(initializedState, qr)\n",
    "    return circ"
   ]
  },
  {
   "cell_type": "code",
   "execution_count": 12,
   "metadata": {},
   "outputs": [],
   "source": [
    "def analyse(circ):\n",
    "    for i in range(0, 2):\n",
    "        circ.h(i)\n",
    "    circ.barrier()\n",
    "    \n",
    "    getOracle = random.randint(0, 3)\n",
    "    circ2 = QuantumCircuit(2)\n",
    "    if(getOracle == 0):\n",
    "        #f(x) = 0\n",
    "        print(\"Constant\")\n",
    "        pass\n",
    "    elif(getOracle==1):\n",
    "        #f(x) = x\n",
    "        print(\"Balanced\")\n",
    "        circ2.cx(0, 1)\n",
    "    elif(getOracle==2):\n",
    "        #f(x) = 1\n",
    "        print(\"Constant\")\n",
    "        circ2.cx(0, 1)\n",
    "        circ2.x(0)\n",
    "        circ2.cx(0, 1)\n",
    "    else:\n",
    "        #f(x) = x + 1\n",
    "        print(\"Balanced\")\n",
    "        circ2.x(0)\n",
    "        circ2.cx(0, 1)\n",
    "    gate = circ2.to_gate(label = ' Oracle')\n",
    "    circ.append(gate, [0, 1])\n",
    "    circ.barrier()\n",
    "    \n",
    "    for i in range(0, 2):\n",
    "        circ.h(i)\n",
    "    for i in range(0, 1):\n",
    "        circ.measure(i, i)\n",
    "    return circ\n",
    "    "
   ]
  },
  {
   "cell_type": "code",
   "execution_count": 14,
   "metadata": {},
   "outputs": [
    {
     "name": "stdout",
     "output_type": "stream",
     "text": [
      "01\n",
      "Balanced\n"
     ]
    },
    {
     "data": {
      "text/plain": [
       "'1'"
      ]
     },
     "execution_count": 14,
     "metadata": {},
     "output_type": "execute_result"
    }
   ],
   "source": [
    "circ = makeCirc(2, '01')\n",
    "circ2 = analyse(circ)\n",
    "getMeasure(circ2, 1, backend)[0][1]"
   ]
  },
  {
   "cell_type": "code",
   "execution_count": 15,
   "metadata": {},
   "outputs": [
    {
     "data": {
      "image/png": "[encoded data removed]",
      "text/plain": [
       "<Figure size 974.414x284.278 with 1 Axes>"
      ]
     },
     "execution_count": 15,
     "metadata": {},
     "output_type": "execute_result"
    }
   ],
   "source": [
    "circ2.decompose().draw('mpl')"
   ]
  }
 ],
 "metadata": {
  "kernelspec": {
   "display_name": "base",
   "language": "python",
   "name": "python3"
  },
  "language_info": {
   "codemirror_mode": {
    "name": "ipython",
    "version": 3
   },
   "file_extension": ".py",
   "mimetype": "text/x-python",
   "name": "python",
   "nbconvert_exporter": "python",
   "pygments_lexer": "ipython3",
   "version": "3.9.13"
  },
  "vscode": {
   "interpreter": {
    "hash": "1bc15c664e8da83fb3171ff18ce6ed45b614350d74f857137054e70f5fa19cef"
   }
  }
 },
 "nbformat": 4,
 "nbformat_minor": 4
}
